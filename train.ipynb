{
 "cells": [
  {
   "cell_type": "code",
   "execution_count": 1,
   "metadata": {},
   "outputs": [],
   "source": [
    "from keras.optimizers import RMSprop\n",
    "from keras.preprocessing.image import ImageDataGenerator\n",
    "import cv2\n",
    "from keras.models import Sequential\n",
    "from keras.layers import Conv2D, Input, ZeroPadding2D, BatchNormalization, Activation, MaxPooling2D, Flatten, Dense,Dropout\n",
    "from keras.models import Model, load_model\n",
    "from keras.callbacks import TensorBoard, ModelCheckpoint\n",
    "from sklearn.model_selection import train_test_split\n",
    "from sklearn.metrics import f1_score\n",
    "from sklearn.utils import shuffle\n",
    "import imutils\n",
    "import numpy as np"
   ]
  },
  {
   "cell_type": "code",
   "execution_count": 2,
   "metadata": {},
   "outputs": [],
   "source": [
    "# build neural network\n",
    "model = Sequential([\n",
    "    Conv2D(100, (3, 3), activation='relu', input_shape=(150, 150, 3)),\n",
    "    MaxPooling2D(2, 2),\n",
    "\n",
    "    Conv2D(100, (3, 3), activation='relu'),\n",
    "    MaxPooling2D(2, 2),\n",
    "\n",
    "    Flatten(),\n",
    "    Dropout(0.5),\n",
    "    Dense(50, activation='relu'),\n",
    "    Dense(2, activation='softmax')\n",
    "])\n",
    "model.compile(optimizer='adam', loss='binary_crossentropy', metrics=['acc'])\n"
   ]
  },
  {
   "cell_type": "code",
   "execution_count": 3,
   "metadata": {},
   "outputs": [
    {
     "name": "stdout",
     "output_type": "stream",
     "text": [
      "Found 1315 images belonging to 2 classes.\n",
      "Found 194 images belonging to 2 classes.\n"
     ]
    }
   ],
   "source": [
    "# Image Data Generation/Augmentation:\n",
    "TRAINING_DIR = \"./train\"\n",
    "train_datagen = ImageDataGenerator(rescale=1.0/255,\n",
    "                                   rotation_range=40,\n",
    "                                   width_shift_range=0.2,\n",
    "                                   height_shift_range=0.2,\n",
    "                                   shear_range=0.2,\n",
    "                                   zoom_range=0.2,\n",
    "                                   horizontal_flip=True,\n",
    "                                   fill_mode='nearest')\n",
    "\n",
    "train_generator = train_datagen.flow_from_directory(TRAINING_DIR,\n",
    "                                                    batch_size=10,\n",
    "                                                    target_size=(150, 150))\n",
    "VALIDATION_DIR = \"./test\"\n",
    "validation_datagen = ImageDataGenerator(rescale=1.0/255)\n",
    "\n",
    "validation_generator = validation_datagen.flow_from_directory(VALIDATION_DIR,\n",
    "                                                              batch_size=10,\n",
    "                                                              target_size=(150, 150))\n"
   ]
  },
  {
   "cell_type": "code",
   "execution_count": 11,
   "metadata": {},
   "outputs": [],
   "source": [
    "checkpoint = ModelCheckpoint('model2-{epoch:03d}.h5',monitor='val_loss',verbose=0,save_best_only=True,mode='auto')"
   ]
  },
  {
   "cell_type": "code",
   "execution_count": 12,
   "metadata": {},
   "outputs": [
    {
     "name": "stdout",
     "output_type": "stream",
     "text": [
      "Epoch 1/10\n"
     ]
    },
    {
     "name": "stderr",
     "output_type": "stream",
     "text": [
      "/var/folders/1h/93wslqxj7kz5qnq_szkpw2nc0000gn/T/ipykernel_37122/569623102.py:2: UserWarning: `Model.fit_generator` is deprecated and will be removed in a future version. Please use `Model.fit`, which supports generators.\n",
      "  history = model.fit_generator(train_generator,\n"
     ]
    },
    {
     "name": "stdout",
     "output_type": "stream",
     "text": [
      "132/132 [==============================] - 49s 366ms/step - loss: 0.2177 - acc: 0.9217 - val_loss: 0.0809 - val_acc: 0.9845\n",
      "Epoch 2/10\n",
      "132/132 [==============================] - 49s 373ms/step - loss: 0.2218 - acc: 0.9255 - val_loss: 0.0609 - val_acc: 0.9845\n",
      "Epoch 3/10\n",
      "132/132 [==============================] - 64s 482ms/step - loss: 0.1733 - acc: 0.9346 - val_loss: 0.0580 - val_acc: 0.9794\n",
      "Epoch 4/10\n",
      "132/132 [==============================] - 54s 409ms/step - loss: 0.2191 - acc: 0.9194 - val_loss: 0.0428 - val_acc: 0.9897\n",
      "Epoch 5/10\n",
      "132/132 [==============================] - 50s 383ms/step - loss: 0.2060 - acc: 0.9247 - val_loss: 0.0955 - val_acc: 0.9381\n",
      "Epoch 6/10\n",
      "132/132 [==============================] - 49s 368ms/step - loss: 0.1853 - acc: 0.9293 - val_loss: 0.0418 - val_acc: 0.9845\n",
      "Epoch 7/10\n",
      "132/132 [==============================] - 51s 390ms/step - loss: 0.1582 - acc: 0.9399 - val_loss: 0.0893 - val_acc: 0.9639\n",
      "Epoch 8/10\n",
      "132/132 [==============================] - 48s 367ms/step - loss: 0.1434 - acc: 0.9506 - val_loss: 0.0245 - val_acc: 0.9897\n",
      "Epoch 9/10\n",
      "132/132 [==============================] - 49s 374ms/step - loss: 0.1477 - acc: 0.9490 - val_loss: 0.0923 - val_acc: 0.9588\n",
      "Epoch 10/10\n",
      "132/132 [==============================] - 49s 368ms/step - loss: 0.1684 - acc: 0.9323 - val_loss: 0.0815 - val_acc: 0.9588\n"
     ]
    }
   ],
   "source": [
    "#train model\n",
    "history = model.fit_generator(train_generator,\n",
    "                              epochs=10,\n",
    "                              validation_data=validation_generator,\n",
    "                              callbacks=[checkpoint])"
   ]
  },
  {
   "cell_type": "code",
   "execution_count": 6,
   "metadata": {},
   "outputs": [
    {
     "data": {
      "text/plain": [
       "[0.5178707242012024,\n",
       " 0.5186311602592468,\n",
       " 0.6790874600410461,\n",
       " 0.8714829087257385,\n",
       " 0.8874524831771851,\n",
       " 0.904182493686676,\n",
       " 0.901901125907898,\n",
       " 0.9072243571281433,\n",
       " 0.901901125907898,\n",
       " 0.9193916320800781]"
      ]
     },
     "execution_count": 6,
     "metadata": {},
     "output_type": "execute_result"
    }
   ],
   "source": [
    "history.history['acc']"
   ]
  },
  {
   "cell_type": "code",
   "execution_count": 9,
   "metadata": {},
   "outputs": [
    {
     "name": "stderr",
     "output_type": "stream",
     "text": [
      "WARNING:absl:Found untraced functions such as _jit_compiled_convolution_op, _jit_compiled_convolution_op, _update_step_xla while saving (showing 3 of 3). These functions will not be directly callable after loading.\n"
     ]
    },
    {
     "name": "stdout",
     "output_type": "stream",
     "text": [
      "INFO:tensorflow:Assets written to: mask_detector.model/assets\n"
     ]
    },
    {
     "name": "stderr",
     "output_type": "stream",
     "text": [
      "INFO:tensorflow:Assets written to: mask_detector.model/assets\n"
     ]
    }
   ],
   "source": [
    "history.model.save('mask_detector.model')"
   ]
  },
  {
   "cell_type": "code",
   "execution_count": 10,
   "metadata": {},
   "outputs": [],
   "source": [
    "model.save('model-010.h5')"
   ]
  },
  {
   "cell_type": "code",
   "execution_count": null,
   "metadata": {},
   "outputs": [],
   "source": []
  }
 ],
 "metadata": {
  "kernelspec": {
   "display_name": "base",
   "language": "python",
   "name": "python3"
  },
  "language_info": {
   "codemirror_mode": {
    "name": "ipython",
    "version": 3
   },
   "file_extension": ".py",
   "mimetype": "text/x-python",
   "name": "python",
   "nbconvert_exporter": "python",
   "pygments_lexer": "ipython3",
   "version": "3.9.13"
  },
  "orig_nbformat": 4,
  "vscode": {
   "interpreter": {
    "hash": "7248f3a60c12663305fcf27a358389ce0b717f78ca02eb766b2aa66674ffe598"
   }
  }
 },
 "nbformat": 4,
 "nbformat_minor": 2
}
